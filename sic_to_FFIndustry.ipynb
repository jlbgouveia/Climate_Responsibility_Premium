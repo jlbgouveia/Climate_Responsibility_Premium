{
 "cells": [
  {
   "cell_type": "markdown",
   "metadata": {},
   "source": [
    "### SIC codes to FF Industry Classifications\n",
    "\n",
    "The Purpose of this document is simply to turn SIC codes into the corresponding Industry category as in Fama and French's website"
   ]
  },
  {
   "cell_type": "code",
   "execution_count": 1,
   "metadata": {},
   "outputs": [],
   "source": [
    "import pandas as pd\n",
    "import numpy as np\n",
    "import time"
   ]
  },
  {
   "cell_type": "code",
   "execution_count": 2,
   "metadata": {},
   "outputs": [],
   "source": [
    "#extract actual tables from Fama and French\n",
    "FF30d = pd.read_excel(\"./Industries_Andre.xlsx\",sheet_name = \"FF_30Ind_\")\n",
    "FF12d = pd.read_excel(\"./Industries_Andre.xlsx\", sheet_name = \"FF_12Ind_\")"
   ]
  },
  {
   "cell_type": "code",
   "execution_count": 3,
   "metadata": {},
   "outputs": [],
   "source": [
    "FF = pd.read_excel(\"./Industries_Andre.xlsx\", sheet_name = \"All_Companies\")\n",
    "FF[\"FF30\"] = np.nan\n",
    "FF[\"FF12\"] = np.nan"
   ]
  },
  {
   "cell_type": "code",
   "execution_count": 4,
   "metadata": {},
   "outputs": [
    {
     "data": {
      "text/html": [
       "<div>\n",
       "<style scoped>\n",
       "    .dataframe tbody tr th:only-of-type {\n",
       "        vertical-align: middle;\n",
       "    }\n",
       "\n",
       "    .dataframe tbody tr th {\n",
       "        vertical-align: top;\n",
       "    }\n",
       "\n",
       "    .dataframe thead th {\n",
       "        text-align: right;\n",
       "    }\n",
       "</style>\n",
       "<table border=\"1\" class=\"dataframe\">\n",
       "  <thead>\n",
       "    <tr style=\"text-align: right;\">\n",
       "      <th></th>\n",
       "      <th>NAME</th>\n",
       "      <th>SIC</th>\n",
       "      <th>FF30</th>\n",
       "      <th>FF12</th>\n",
       "    </tr>\n",
       "  </thead>\n",
       "  <tbody>\n",
       "    <tr>\n",
       "      <th>0</th>\n",
       "      <td>AAON</td>\n",
       "      <td>3580</td>\n",
       "      <td>NaN</td>\n",
       "      <td>NaN</td>\n",
       "    </tr>\n",
       "    <tr>\n",
       "      <th>1</th>\n",
       "      <td>AAR</td>\n",
       "      <td>3724</td>\n",
       "      <td>NaN</td>\n",
       "      <td>NaN</td>\n",
       "    </tr>\n",
       "    <tr>\n",
       "      <th>2</th>\n",
       "      <td>AARON'S</td>\n",
       "      <td>7359</td>\n",
       "      <td>NaN</td>\n",
       "      <td>NaN</td>\n",
       "    </tr>\n",
       "    <tr>\n",
       "      <th>3</th>\n",
       "      <td>ABBOTT LABORATORIES</td>\n",
       "      <td>5047</td>\n",
       "      <td>NaN</td>\n",
       "      <td>NaN</td>\n",
       "    </tr>\n",
       "    <tr>\n",
       "      <th>4</th>\n",
       "      <td>ABBVIE</td>\n",
       "      <td>2834</td>\n",
       "      <td>NaN</td>\n",
       "      <td>NaN</td>\n",
       "    </tr>\n",
       "  </tbody>\n",
       "</table>\n",
       "</div>"
      ],
      "text/plain": [
       "                  NAME   SIC  FF30  FF12\n",
       "0                 AAON  3580   NaN   NaN\n",
       "1                  AAR  3724   NaN   NaN\n",
       "2              AARON'S  7359   NaN   NaN\n",
       "3  ABBOTT LABORATORIES  5047   NaN   NaN\n",
       "4               ABBVIE  2834   NaN   NaN"
      ]
     },
     "execution_count": 4,
     "metadata": {},
     "output_type": "execute_result"
    }
   ],
   "source": [
    "FF.head()"
   ]
  },
  {
   "cell_type": "code",
   "execution_count": 5,
   "metadata": {},
   "outputs": [
    {
     "data": {
      "text/html": [
       "<div>\n",
       "<style scoped>\n",
       "    .dataframe tbody tr th:only-of-type {\n",
       "        vertical-align: middle;\n",
       "    }\n",
       "\n",
       "    .dataframe tbody tr th {\n",
       "        vertical-align: top;\n",
       "    }\n",
       "\n",
       "    .dataframe thead th {\n",
       "        text-align: right;\n",
       "    }\n",
       "</style>\n",
       "<table border=\"1\" class=\"dataframe\">\n",
       "  <thead>\n",
       "    <tr style=\"text-align: right;\">\n",
       "      <th></th>\n",
       "      <th>Cat_Number</th>\n",
       "      <th>Actual_Interval</th>\n",
       "      <th>From</th>\n",
       "      <th>To</th>\n",
       "      <th>Long_Name</th>\n",
       "      <th>Category_30FF</th>\n",
       "    </tr>\n",
       "  </thead>\n",
       "  <tbody>\n",
       "    <tr>\n",
       "      <th>0</th>\n",
       "      <td>1</td>\n",
       "      <td>0100-0199</td>\n",
       "      <td>100</td>\n",
       "      <td>199</td>\n",
       "      <td>Agric production - crops</td>\n",
       "      <td>1 - Food Products</td>\n",
       "    </tr>\n",
       "    <tr>\n",
       "      <th>1</th>\n",
       "      <td>1</td>\n",
       "      <td>0200-0299</td>\n",
       "      <td>200</td>\n",
       "      <td>299</td>\n",
       "      <td>Agric production - livestock</td>\n",
       "      <td>1 - Food Products</td>\n",
       "    </tr>\n",
       "    <tr>\n",
       "      <th>2</th>\n",
       "      <td>1</td>\n",
       "      <td>0700-0799</td>\n",
       "      <td>700</td>\n",
       "      <td>799</td>\n",
       "      <td>Agricultural services</td>\n",
       "      <td>1 - Food Products</td>\n",
       "    </tr>\n",
       "    <tr>\n",
       "      <th>3</th>\n",
       "      <td>1</td>\n",
       "      <td>0910-0919</td>\n",
       "      <td>910</td>\n",
       "      <td>919</td>\n",
       "      <td>Commercial fishing</td>\n",
       "      <td>1 - Food Products</td>\n",
       "    </tr>\n",
       "    <tr>\n",
       "      <th>4</th>\n",
       "      <td>1</td>\n",
       "      <td>2000-2009</td>\n",
       "      <td>2000</td>\n",
       "      <td>2009</td>\n",
       "      <td>Food and kindred products</td>\n",
       "      <td>1 - Food Products</td>\n",
       "    </tr>\n",
       "  </tbody>\n",
       "</table>\n",
       "</div>"
      ],
      "text/plain": [
       "   Cat_Number Actual_Interval  From    To                          Long_Name  \\\n",
       "0           1       0100-0199   100   199      Agric production - crops        \n",
       "1           1       0200-0299   200   299  Agric production - livestock        \n",
       "2           1       0700-0799   700   799       Agricultural services          \n",
       "3           1       0910-0919   910   919          Commercial fishing          \n",
       "4           1       2000-2009  2000  2009     Food and kindred products        \n",
       "\n",
       "       Category_30FF  \n",
       "0  1 - Food Products  \n",
       "1  1 - Food Products  \n",
       "2  1 - Food Products  \n",
       "3  1 - Food Products  \n",
       "4  1 - Food Products  "
      ]
     },
     "execution_count": 5,
     "metadata": {},
     "output_type": "execute_result"
    }
   ],
   "source": [
    "FF30d.head()"
   ]
  },
  {
   "cell_type": "code",
   "execution_count": 6,
   "metadata": {},
   "outputs": [
    {
     "data": {
      "text/html": [
       "<div>\n",
       "<style scoped>\n",
       "    .dataframe tbody tr th:only-of-type {\n",
       "        vertical-align: middle;\n",
       "    }\n",
       "\n",
       "    .dataframe tbody tr th {\n",
       "        vertical-align: top;\n",
       "    }\n",
       "\n",
       "    .dataframe thead th {\n",
       "        text-align: right;\n",
       "    }\n",
       "</style>\n",
       "<table border=\"1\" class=\"dataframe\">\n",
       "  <thead>\n",
       "    <tr style=\"text-align: right;\">\n",
       "      <th></th>\n",
       "      <th>Actual_Interval</th>\n",
       "      <th>From</th>\n",
       "      <th>To</th>\n",
       "      <th>Category_12FF</th>\n",
       "    </tr>\n",
       "  </thead>\n",
       "  <tbody>\n",
       "    <tr>\n",
       "      <th>0</th>\n",
       "      <td>0100-0999</td>\n",
       "      <td>100.0</td>\n",
       "      <td>999.0</td>\n",
       "      <td>1 - Consumer Non-Durables</td>\n",
       "    </tr>\n",
       "    <tr>\n",
       "      <th>1</th>\n",
       "      <td>2000-2399</td>\n",
       "      <td>2000.0</td>\n",
       "      <td>2399.0</td>\n",
       "      <td>1 - Consumer Non-Durables</td>\n",
       "    </tr>\n",
       "    <tr>\n",
       "      <th>2</th>\n",
       "      <td>2700-2749</td>\n",
       "      <td>2700.0</td>\n",
       "      <td>2749.0</td>\n",
       "      <td>1 - Consumer Non-Durables</td>\n",
       "    </tr>\n",
       "    <tr>\n",
       "      <th>3</th>\n",
       "      <td>2770-2799</td>\n",
       "      <td>2770.0</td>\n",
       "      <td>2799.0</td>\n",
       "      <td>1 - Consumer Non-Durables</td>\n",
       "    </tr>\n",
       "    <tr>\n",
       "      <th>4</th>\n",
       "      <td>3100-3199</td>\n",
       "      <td>3100.0</td>\n",
       "      <td>3199.0</td>\n",
       "      <td>1 - Consumer Non-Durables</td>\n",
       "    </tr>\n",
       "  </tbody>\n",
       "</table>\n",
       "</div>"
      ],
      "text/plain": [
       "  Actual_Interval    From      To              Category_12FF\n",
       "0       0100-0999   100.0   999.0  1 - Consumer Non-Durables\n",
       "1       2000-2399  2000.0  2399.0  1 - Consumer Non-Durables\n",
       "2       2700-2749  2700.0  2749.0  1 - Consumer Non-Durables\n",
       "3       2770-2799  2770.0  2799.0  1 - Consumer Non-Durables\n",
       "4       3100-3199  3100.0  3199.0  1 - Consumer Non-Durables"
      ]
     },
     "execution_count": 6,
     "metadata": {},
     "output_type": "execute_result"
    }
   ],
   "source": [
    "FF12d.head()"
   ]
  },
  {
   "cell_type": "code",
   "execution_count": 7,
   "metadata": {},
   "outputs": [
    {
     "data": {
      "text/plain": [
       "38.89785885810852"
      ]
     },
     "execution_count": 7,
     "metadata": {},
     "output_type": "execute_result"
    }
   ],
   "source": [
    "n = 0\n",
    "time0 = time.time()\n",
    "sic_30 = list()\n",
    "for sic in FF[\"SIC\"]:\n",
    "    n += 1\n",
    "    for a in range(0,len(FF30d)):\n",
    "        if sic >= FF30d[\"From\"][a] and sic <= FF30d[\"To\"][a]:\n",
    "            sic_30.append(FF30d[\"Category_30FF\"][a])\n",
    "            next\n",
    "    if len(sic_30) != n:\n",
    "        sic_30.append(\"NA\")\n",
    "FF[\"FF30\"] = pd.DataFrame(sic_30)\n",
    "time1 = time.time()\n",
    "time1-time0"
   ]
  },
  {
   "cell_type": "code",
   "execution_count": 8,
   "metadata": {},
   "outputs": [
    {
     "data": {
      "text/plain": [
       "3.5086445808410645"
      ]
     },
     "execution_count": 8,
     "metadata": {},
     "output_type": "execute_result"
    }
   ],
   "source": [
    "n = 0\n",
    "time0 = time.time()\n",
    "sic_30 = list()\n",
    "for sic in FF[\"SIC\"]:\n",
    "    n += 1\n",
    "    for a in range(0,len(FF12d)):\n",
    "        if sic >= FF12d[\"From\"][a] and sic <= FF12d[\"To\"][a]:\n",
    "            sic_30.append(FF12d[\"Category_12FF\"][a])\n",
    "            next\n",
    "    if len(sic_30) != n:\n",
    "        sic_30.append(\"NA\")\n",
    "FF[\"FF12\"] = pd.DataFrame(sic_30)\n",
    "time1 = time.time()\n",
    "time1-time0"
   ]
  },
  {
   "cell_type": "code",
   "execution_count": 9,
   "metadata": {},
   "outputs": [],
   "source": [
    "#FF.to_excel('./Andre_Final.xlsx', sheet_name = \"FF_Ind\")"
   ]
  }
 ],
 "metadata": {
  "kernelspec": {
   "display_name": "Python 3",
   "language": "python",
   "name": "python3"
  },
  "language_info": {
   "codemirror_mode": {
    "name": "ipython",
    "version": 3
   },
   "file_extension": ".py",
   "mimetype": "text/x-python",
   "name": "python",
   "nbconvert_exporter": "python",
   "pygments_lexer": "ipython3",
   "version": "3.7.9"
  }
 },
 "nbformat": 4,
 "nbformat_minor": 2
}
